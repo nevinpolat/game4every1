{
 "cells": [
  {
   "cell_type": "code",
   "execution_count": 2,
   "metadata": {},
   "outputs": [],
   "source": [
    "import pandas as pd\n",
    "import os \n",
    "from dotenv import load_dotenv"
   ]
  },
  {
   "cell_type": "code",
   "execution_count": 3,
   "metadata": {},
   "outputs": [],
   "source": [
    "\n",
    "# Load environment variables\n",
    "load_dotenv()\n",
    "\n",
    "OPENAI_API_KEY = os.getenv('OPENAI_API_KEY')"
   ]
  },
  {
   "cell_type": "code",
   "execution_count": 4,
   "metadata": {},
   "outputs": [
    {
     "data": {
      "text/plain": [
       "Index(['gameId', 'gameName', 'alternateNames', 'subcategory', 'level',\n",
       "       'description', 'playersMax', 'ageRange', 'duration', 'equipmentNeeded',\n",
       "       'objective', 'skillsDeveloped', 'setupTime', 'place',\n",
       "       'physicalIntensityLevel', 'educationalBenefits', 'category'],\n",
       "      dtype='object')"
      ]
     },
     "execution_count": 4,
     "metadata": {},
     "output_type": "execute_result"
    }
   ],
   "source": [
    "df = pd.read_csv(\"../data/game-dataset.csv\",sep = ',')\n",
    "df.columns"
   ]
  },
  {
   "cell_type": "code",
   "execution_count": 5,
   "metadata": {},
   "outputs": [
    {
     "data": {
      "text/plain": [
       "{'gameId': 1,\n",
       " 'gameName': 'Soccer',\n",
       " 'alternateNames': 'Football',\n",
       " 'subcategory': 'Team Sport',\n",
       " 'level': 'Beginner to Professional',\n",
       " 'description': \"A team sport where players aim to score goals by getting the ball into the opposing team's net without using their hands or arms.\",\n",
       " 'playersMax': '22',\n",
       " 'ageRange': '4+',\n",
       " 'duration': '90 minutes',\n",
       " 'equipmentNeeded': 'Soccer ball; Goals; Cleats; Shin guards',\n",
       " 'objective': 'Score more goals than the opposing team within the allotted time.',\n",
       " 'skillsDeveloped': 'Teamwork; Coordination; Physical fitness',\n",
       " 'setupTime': '10-15 minutes',\n",
       " 'place': 'Soccer field or pitch',\n",
       " 'physicalIntensityLevel': 'High',\n",
       " 'educationalBenefits': 'Promotes physical fitness, teamwork, and strategic thinking',\n",
       " 'category': 'Outdoor Sports and Games'}"
      ]
     },
     "execution_count": 5,
     "metadata": {},
     "output_type": "execute_result"
    }
   ],
   "source": [
    "documents = df.to_dict(orient='records')\n",
    "documents[0]"
   ]
  },
  {
   "cell_type": "code",
   "execution_count": 6,
   "metadata": {},
   "outputs": [
    {
     "name": "stdout",
     "output_type": "stream",
     "text": [
      "ID: 159, Game Name: Hollow Knight, Objective: Explore the kingdom of Hallownest and uncover its mysteries.\n",
      "ID: 171, Game Name: The Elder Scrolls V: Skyrim, Objective: Defeat Alduin and complete various quests.\n",
      "ID: 167, Game Name: Grand Theft Auto V, Objective: Complete missions and explore the open world.\n",
      "ID: 144, Game Name: The Legend of Zelda: Breath of the Wild, Objective: Defeat Calamity Ganon to save Hyrule.\n",
      "ID: 163, Game Name: Elden Ring, Objective: Defeat bosses and unravel the mysteries of the Elden Ring.\n"
     ]
    }
   ],
   "source": [
    "import minsearch\n",
    "\n",
    "# Initialize the Index\n",
    "index = minsearch.Index(\n",
    "    text_fields=[\n",
    "        'gameName', 'alternateNames', 'subcategory', 'description', 'objective', \n",
    "        'skillsDeveloped', 'place', 'physicalIntensityLevel', 'educationalBenefits'\n",
    "    ],\n",
    "    keyword_fields=[\n",
    "        'gameId', 'setupTime', 'equipmentNeeded',\n",
    "        'category', 'ageRange', 'level', 'playersMax', 'duration'\n",
    "    ]\n",
    ")\n",
    "\n",
    "documents = df.to_dict(orient='records')\n",
    "\n",
    "\n",
    "# Fit the index with documents\n",
    "index.fit(documents)\n",
    "\n",
    "# Perform a search\n",
    "results = index.search(\n",
    "    query=\"open-world exploration and puzzle solving\",\n",
    "    filter_dict={'subcategory': 'Action-Adventure', 'indoorOutdoor': 'Indoor'},\n",
    "    boost_dict={'description': 2, 'objective': 1.5},\n",
    "    num_results=5\n",
    ")\n",
    "\n",
    "# Display results\n",
    "for doc in results:\n",
    "    print(f\"ID: {doc['gameId']}, Game Name: {doc.get('gameName', 'N/A')}, Objective: {doc['objective']}\")"
   ]
  },
  {
   "cell_type": "markdown",
   "metadata": {},
   "source": [
    "## RAG flow"
   ]
  },
  {
   "cell_type": "code",
   "execution_count": 7,
   "metadata": {},
   "outputs": [],
   "source": [
    "import openai\n",
    "from openai import OpenAI\n",
    "\n",
    "client = OpenAI()"
   ]
  },
  {
   "cell_type": "code",
   "execution_count": 8,
   "metadata": {},
   "outputs": [],
   "source": [
    "def search(query):\n",
    "    boost = {}\n",
    "\n",
    "    results = index.search(\n",
    "        query=query,\n",
    "        filter_dict={},\n",
    "        boost_dict=boost,\n",
    "        num_results=10\n",
    "    )\n",
    "\n",
    "    return results"
   ]
  },
  {
   "cell_type": "code",
   "execution_count": 9,
   "metadata": {},
   "outputs": [],
   "source": [
    "prompt_template = \"\"\"\n",
    "You're a game shop assistant. Answer the QUESTION based on the CONTEXT from our games database.\n",
    "Use only the facts from the CONTEXT when answering the QUESTION.\n",
    "\n",
    "QUESTION: {question}\n",
    "\n",
    "CONTEXT:\n",
    "{context}\n",
    "\"\"\".strip()\n",
    "\n",
    "entry_template = \"\"\"\n",
    "  'gameName': {gameName}\n",
    "  'alternateNames': {alternateNames}\n",
    "  'subcategory': {subcategory}\n",
    "  'level': {level},\n",
    "  'description': {description}\n",
    "  'playersMax': {playersMax}\n",
    "  'ageRange': {ageRange}\n",
    "  'duration': {duration}\n",
    "  'equipmentNeeded': {equipmentNeeded}\n",
    "  'objective': {objective},\n",
    "  'skillsDeveloped': {skillsDeveloped},\n",
    "  'setupTime': {setupTime},\n",
    "  'place': {place}\n",
    "  'physicalIntensityLevel': {physicalIntensityLevel}\n",
    "  'educationalBenefits': {educationalBenefits}\n",
    "  'category': {category}\n",
    "\"\"\".strip()\n",
    "\n",
    "def build_prompt(query, search_results):\n",
    "    context = \"\"\n",
    "    \n",
    "    for doc in search_results:\n",
    "        context = context + entry_template.format(**doc) + \"\\n\\n\"\n",
    "\n",
    "    prompt = prompt_template.format(question=query, context=context).strip()\n",
    "    return prompt"
   ]
  },
  {
   "cell_type": "code",
   "execution_count": 10,
   "metadata": {},
   "outputs": [],
   "source": [
    "def llm(prompt, model='gpt-4o-mini'):\n",
    "    response = client.chat.completions.create(\n",
    "        model=model,\n",
    "        messages=[{\"role\": \"user\", \"content\": prompt}]\n",
    "    )\n",
    "    \n",
    "    return response.choices[0].message.content"
   ]
  },
  {
   "cell_type": "code",
   "execution_count": 11,
   "metadata": {},
   "outputs": [],
   "source": [
    "def rag(query, model='gpt-4o-mini'):\n",
    "    search_results = search(query)\n",
    "    prompt = build_prompt(query, search_results)\n",
    "    answer = llm(prompt, model=model)\n",
    "    return answer"
   ]
  },
  {
   "cell_type": "code",
   "execution_count": 18,
   "metadata": {},
   "outputs": [
    {
     "name": "stdout",
     "output_type": "stream",
     "text": [
      "The game you are looking for is **Soccer**.\n",
      "It is described as a team sport where players aim to score goals by getting the ball into the opposing team's net without using their hands or arms.\n",
      "It can accommodate up to 22 players, is suitable for ages 4 and up, and typically lasts 90 minutes.\n",
      "The equipment needed includes a soccer ball, goals, cleats, and shin guards.\n",
      "The objective of the game is to score more goals than the opposing team within the allotted time.\n",
      "Soccer promotes teamwork, coordination, and physical fitness.\n"
     ]
    }
   ],
   "source": [
    "question = 'Find the game Soccer?'\n",
    "answer = rag(question)\n",
    "# Replace '. ' with '.\\n' to insert a newline after each sentence\n",
    "formatted_answer = answer.replace('. ', '.\\n')\n",
    "\n",
    "# Print the formatted answer\n",
    "print(formatted_answer)"
   ]
  },
  {
   "cell_type": "code",
   "execution_count": 19,
   "metadata": {},
   "outputs": [
    {
     "name": "stdout",
     "output_type": "stream",
     "text": [
      "For two players looking for strategy games, here are some options based on the context provided:\n",
      "\n",
      "1.\n",
      "**Settlers of Catan**: Although this game can accommodate up to 4 players, it's ideal for two players as well.\n",
      "In this strategy board game, players collect resources and build settlements to earn victory points, enhancing their skills in resource management and strategic planning.\n",
      "The game typically lasts 1-2 hours, has a low physical intensity level, and requires a game board, resource cards, tokens, and dice.\n",
      "\n",
      "2.\n",
      "**Airsoft**: While not strictly a traditional board game, Airsoft can be played in strategic two-player formats.\n",
      "This team game involves completing objectives or eliminating opponents using replica firearms that shoot plastic pellets.\n",
      "It promotes teamwork, strategy, and coordination and can be set up in about 15 minutes with moderate to high physical intensity.\n",
      "\n",
      "3.\n",
      "**Mahjong**: This tile game is typically played by 4 players, but it can be adapted for two players.\n",
      "It involves skill, strategy, and calculation using a set of tiles based on Chinese characters and symbols.\n",
      "The game lasts 1-2 hours, has a low physical intensity level, and helps develop pattern recognition, memory, and strategic thinking.\n",
      "\n",
      "These games offer a mix of strategic gameplay suitable for two players, with varying themes and settings.\n"
     ]
    }
   ],
   "source": [
    "question = \"Tell me about strategy games for two players.\"\n",
    "answer = rag(question)\n",
    "formatted_answer = answer.replace('. ', '.\\n')\n",
    "\n",
    "# Print the formatted answer\n",
    "print(formatted_answer)"
   ]
  },
  {
   "cell_type": "code",
   "execution_count": 20,
   "metadata": {},
   "outputs": [
    {
     "name": "stdout",
     "output_type": "stream",
     "text": [
      "The following board games help develop strategic thinking:\n",
      "\n",
      "1. **Hnefatafl (Viking Chess)** - Develops strategic planning and tactical thinking.\n",
      "2. **Xiangqi (Chinese Chess)** - Encourages strategic thinking, concentration, and planning.\n",
      "3. **Go (Weiqi; Baduk)** - Enhances strategic thinking, patience, and spatial reasoning.\n",
      "4. **Chess (International Chess)** - Develops logical reasoning and strategic planning.\n",
      "5. **Five Tribes** - Promotes strategic planning, resource management, and tactical thinking.\n",
      "6. **Sequence** - Enhances strategic thinking, probability, and teamwork.\n",
      "7. **Dara** - Develops strategic thinking, planning, and concentration.\n"
     ]
    }
   ],
   "source": [
    "question = \"What board games help develop strategic thinking?\"\n",
    "answer = rag(question)\n",
    "print(answer)"
   ]
  },
  {
   "cell_type": "code",
   "execution_count": 21,
   "metadata": {},
   "outputs": [
    {
     "name": "stdout",
     "output_type": "stream",
     "text": [
      "I recommend **Table Football** (also known as Foosball).\n",
      "It is suitable for ages 6 and up, lasts between 10 to 30 minutes, and is a fun tabletop game that enhances hand-eye coordination, reflexes, and strategy.\n"
     ]
    }
   ],
   "source": [
    "question = \"Recommend a game for 10+ age group that lasts around 30 minutes.\"\n",
    "answer = rag(question)\n",
    "formatted_answer = answer.replace('. ', '.\\n')\n",
    "\n",
    "# Print the formatted answer\n",
    "print(formatted_answer)\n"
   ]
  },
  {
   "cell_type": "code",
   "execution_count": 22,
   "metadata": {},
   "outputs": [
    {
     "name": "stdout",
     "output_type": "stream",
     "text": [
      "For the 10+ age group with a duration of around 30 minutes, I recommend the following games:\n",
      "\n",
      "1. **The Resistance**\n",
      "   - **Age Range**: 13+\n",
      "   - **Duration**: 30 minutes\n",
      "   - **Objective**: Complete missions successfully without being sabotaged by spies.\n",
      "   - **Skills Developed**: Deductive reasoning; Strategy; Communication.\n",
      "\n",
      "2. **Werewolf**\n",
      "   - **Age Range**: 13+\n",
      "   - **Duration**: 30-90 minutes (can be played in shorter sessions)\n",
      "   - **Objective**: Eliminate the opposing team by deducing roles and voting.\n",
      "   - **Skills Developed**: Deductive reasoning; Strategy; Social skills.\n",
      "\n",
      "Both of these games are engaging and suitable for players aged 10 and up, providing a fun challenge within the specified time frame.\n"
     ]
    }
   ],
   "source": [
    "question = \"Recommend games for 10+ age group that lasts around 30 minutes.\"\n",
    "answer = rag(question)\n",
    "print(answer)"
   ]
  }
 ],
 "metadata": {
  "kernelspec": {
   "display_name": "Python 3 (ipykernel)",
   "language": "python",
   "name": "python3"
  },
  "language_info": {
   "codemirror_mode": {
    "name": "ipython",
    "version": 3
   },
   "file_extension": ".py",
   "mimetype": "text/x-python",
   "name": "python",
   "nbconvert_exporter": "python",
   "pygments_lexer": "ipython3",
   "version": "3.11.9"
  }
 },
 "nbformat": 4,
 "nbformat_minor": 4
}
