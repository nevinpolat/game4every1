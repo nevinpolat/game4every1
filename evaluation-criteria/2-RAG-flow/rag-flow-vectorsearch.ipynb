{
 "cells": [
  {
   "cell_type": "code",
   "execution_count": 1,
   "metadata": {},
   "outputs": [
    {
     "name": "stderr",
     "output_type": "stream",
     "text": [
      "/home/nevin/anaconda3/envs/1/lib/python3.11/site-packages/sentence_transformers/cross_encoder/CrossEncoder.py:13: TqdmExperimentalWarning: Using `tqdm.autonotebook.tqdm` in notebook mode. Use `tqdm.tqdm` instead to force console mode (e.g. in jupyter console)\n",
      "  from tqdm.autonotebook import tqdm, trange\n"
     ]
    }
   ],
   "source": [
    "import pandas as pd\n",
    "import weaviate\n",
    "from weaviate.embedded import EmbeddedOptions\n",
    "from sentence_transformers import SentenceTransformer\n",
    "import openai\n",
    "import json\n"
   ]
  },
  {
   "cell_type": "code",
   "execution_count": 3,
   "metadata": {},
   "outputs": [],
   "source": [
    "# Load the CSV file\n",
    "df = pd.read_csv(\"../data/game-dataset.csv\",sep = ',')\n",
    "\n",
    "# Fill NaN values with empty strings to avoid errors\n",
    "df = df.fillna('')\n",
    "\n",
    "# Combine relevant fields into a single text field\n",
    "def combine_fields(row):\n",
    "    fields = [\n",
    "        'gameName',\n",
    "        'alternateNames',\n",
    "        'subcategory',\n",
    "        'level',\n",
    "        'description',\n",
    "        'playersMax',\n",
    "        'ageRange',\n",
    "        'duration',\n",
    "        'equipmentNeeded',\n",
    "        'objective',\n",
    "        'skillsDeveloped',\n",
    "        'setupTime',\n",
    "        'place',\n",
    "        'physicalIntensityLevel',\n",
    "        'educationalBenefits',\n",
    "        'category'\n",
    "    ]\n",
    "    return ' '.join(str(row[field]) for field in fields if row[field])\n",
    "\n",
    "df['combined_text'] = df.apply(combine_fields, axis=1)\n"
   ]
  },
  {
   "cell_type": "code",
   "execution_count": 5,
   "metadata": {},
   "outputs": [
    {
     "name": "stderr",
     "output_type": "stream",
     "text": [
      "/tmp/ipykernel_1155527/122591302.py:1: DeprecationWarning: \n",
      "Python client v3 `weaviate.Client(...)` connections and methods are deprecated and will\n",
      "            be removed by 2024-11-30.\n",
      "\n",
      "            Upgrade your code to use Python client v4 `weaviate.WeaviateClient` connections and methods.\n",
      "                - For Python Client v4 usage, see: https://weaviate.io/developers/weaviate/client-libraries/python\n",
      "                - For code migration, see: https://weaviate.io/developers/weaviate/client-libraries/python/v3_v4_migration\n",
      "\n",
      "            If you have to use v3 code, install the v3 client and pin the v3 dependency in your requirements file: `weaviate-client>=3.26.7;<4.0.0`\n",
      "  client = weaviate.Client(\"http://localhost:8080\")\n"
     ]
    }
   ],
   "source": [
    "client = weaviate.Client(\"http://localhost:8080\")\n"
   ]
  },
  {
   "cell_type": "code",
   "execution_count": 6,
   "metadata": {},
   "outputs": [],
   "source": [
    "import os\n",
    "\n",
    "from dotenv import load_dotenv\n",
    "# Load environment variables\n",
    "load_dotenv()\n",
    "\n",
    "# Retrieve environment variables\n",
    "#DATABASE_URL = os.getenv('DATABASE_URL')\n",
    "WEAVIATE_URL = os.getenv('WEAVIATE_URL')\n",
    "OPENAI_API_KEY = os.getenv('OPENAI_API_KEY')"
   ]
  },
  {
   "cell_type": "code",
   "execution_count": 7,
   "metadata": {},
   "outputs": [],
   "source": [
    "from openai import OpenAI\n",
    "\n",
    "client1 = OpenAI()"
   ]
  },
  {
   "cell_type": "code",
   "execution_count": 8,
   "metadata": {},
   "outputs": [],
   "source": [
    "# Define the schema\n",
    "game_class = {\n",
    "    \"class\": \"Game\",\n",
    "    \"description\": \"A class representing a game\",\n",
    "    \"vectorizer\": \"none\",  # We'll provide our own embeddings\n",
    "    \"properties\": [\n",
    "        {\n",
    "            \"name\": \"gameName\",\n",
    "            \"dataType\": [\"text\"],\n",
    "        },\n",
    "        {\n",
    "            \"name\": \"combined_text\",\n",
    "            \"dataType\": [\"text\"],\n",
    "        },\n",
    "        # Add other properties as needed\n",
    "    ]\n",
    "}\n",
    "\n",
    "# Delete the class if it already exists (optional)\n",
    "if client.schema.exists(\"Game\"):\n",
    "    client.schema.delete_class(\"Game\")\n",
    "\n",
    "# Create the schema\n",
    "client.schema.create_class(game_class)\n"
   ]
  },
  {
   "cell_type": "code",
   "execution_count": 9,
   "metadata": {},
   "outputs": [
    {
     "name": "stderr",
     "output_type": "stream",
     "text": [
      "/home/nevin/anaconda3/envs/1/lib/python3.11/site-packages/transformers/tokenization_utils_base.py:1601: FutureWarning: `clean_up_tokenization_spaces` was not set. It will be set to `True` by default. This behavior will be depracted in transformers v4.45, and will be then set to `False` by default. For more details check this issue: https://github.com/huggingface/transformers/issues/31884\n",
      "  warnings.warn(\n"
     ]
    },
    {
     "name": "stdout",
     "output_type": "stream",
     "text": [
      "Imported 590/590\r"
     ]
    }
   ],
   "source": [
    "# Load the pre-trained model for embeddings\n",
    "embedding_model = SentenceTransformer('all-MiniLM-L6-v2')\n",
    "\n",
    "# Function to generate embeddings and import data\n",
    "def import_data(df):\n",
    "    with client.batch as batch:\n",
    "        batch.batch_size = 100\n",
    "        for index, row in df.iterrows():\n",
    "            properties = {\n",
    "                \"gameName\": row[\"gameName\"],\n",
    "                \"combined_text\": row[\"combined_text\"],\n",
    "                # Add other properties as needed\n",
    "            }\n",
    "            embedding = embedding_model.encode(row[\"combined_text\"]).astype('float32')\n",
    "\n",
    "            client.batch.add_data_object(\n",
    "                data_object=properties,\n",
    "                class_name=\"Game\",\n",
    "                vector=embedding\n",
    "            )\n",
    "            print(f\"Imported {index+1}/{len(df)}\", end='\\r')\n",
    "\n",
    "# Import the data\n",
    "import_data(df)\n"
   ]
  },
  {
   "cell_type": "code",
   "execution_count": 13,
   "metadata": {},
   "outputs": [],
   "source": [
    "def query_games_instructor(query):\n",
    "    # Step 1: Generate embedding for the query\n",
    "    query_embedding = embedding_model.encode([query])[0].astype('float32')\n",
    "    \n",
    "    # Step 2: Use Weaviate's semantic search to find similar games\n",
    "    response = client.query.get(\n",
    "        class_name=\"Game\",\n",
    "        properties=[\"gameName\", \"combined_text\"]\n",
    "    ).with_near_vector({\n",
    "        \"vector\": query_embedding.tolist(),\n",
    "        \"distance\": 0.7  # Adjust the distance threshold as needed\n",
    "    }).with_limit(3).do()\n",
    "    \n",
    "    # Extract the retrieved documents\n",
    "    results = response[\"data\"][\"Get\"][\"Game\"]\n",
    "    \n",
    "    # Step 3: Prepare the context for the LLM\n",
    "    context = ''\n",
    "    for res in results:\n",
    "        context += f\"{res['combined_text']}\\n\\n\"\n",
    "    \n",
    "    # Step 4: Construct the messages for the ChatCompletion API\n",
    "    messages = [\n",
    "    {\"role\": \"system\", \"content\": \"You are a helpful Games Instructor who answers questions using only the provided context. Do not use any outside knowledge.\"},\n",
    "    {\"role\": \"user\", \"content\": f\"Context:\\n{context}\\n\\nQuestion:\\n{query}\\n\\nAnswer:\"}\n",
    "]\n",
    "    \n",
    "   \n",
    "    response = client1.chat.completions.create(\n",
    "        model='gpt-4o-mini',\n",
    "        messages= messages\n",
    "    )\n",
    "    \n",
    "    answer = response.choices[0].message.content.strip()\n",
    "    \n",
    "    return answer\n"
   ]
  },
  {
   "cell_type": "code",
   "execution_count": 19,
   "metadata": {},
   "outputs": [
    {
     "name": "stdout",
     "output_type": "stream",
     "text": [
      "Answer:\n",
      "Capture the Flag is an outdoor team sport suitable for teenagers that promotes teamwork.\n",
      "It involves two teams trying to capture the opposing team's flag and return it to their own territory without being tagged.\n",
      "This game enhances teamwork, strategic planning, and physical fitness.\n",
      "Another option is Tag, where players must work together to avoid being tagged, promoting social interaction and agility.\n"
     ]
    }
   ],
   "source": [
    "if __name__ == \"__main__\":\n",
    "    user_query = \"What are some outdoor team sports suitable for teenagers that promote teamwork?\"\n",
    "    answer = query_games_instructor(user_query)\n",
    "    # Replace '. ' with '.\\n' to insert a newline after each sentence\n",
    "    formatted_answer = answer.replace('. ', '.\\n')\n",
    "    print(\"Answer:\")\n",
    "    # Print the formatted answer\n",
    "    print(formatted_answer)\n",
    "    \n",
    "    "
   ]
  },
  {
   "cell_type": "code",
   "execution_count": 20,
   "metadata": {},
   "outputs": [
    {
     "name": "stdout",
     "output_type": "stream",
     "text": [
      "Answer:\n",
      "You can try the Parachute Games Group Activity.\n",
      "In this game, children hold the edges of a large parachute and can create waves or bounce balls on it.\n",
      "This activity promotes teamwork and coordination while being engaging and enjoyable for kids outdoors.\n",
      "It's suitable for beginners and can be played in an open area.\n"
     ]
    }
   ],
   "source": [
    "if __name__ == \"__main__\":\n",
    "    user_query = \"I want a fun game that helps kids work together outside.\"\n",
    "    answer = query_games_instructor(user_query)\n",
    "    # Replace '. ' with '.\\n' to insert a newline after each sentence\n",
    "    formatted_answer = answer.replace('. ', '.\\n')\n",
    "    print(\"Answer:\")\n",
    "    # Print the formatted answer\n",
    "    print(formatted_answer)\n"
   ]
  }
 ],
 "metadata": {
  "kernelspec": {
   "display_name": "game-instructor-ohKpQWdR",
   "language": "python",
   "name": "python3"
  },
  "language_info": {
   "codemirror_mode": {
    "name": "ipython",
    "version": 3
   },
   "file_extension": ".py",
   "mimetype": "text/x-python",
   "name": "python",
   "nbconvert_exporter": "python",
   "pygments_lexer": "ipython3",
   "version": "3.11.9"
  }
 },
 "nbformat": 4,
 "nbformat_minor": 2
}
