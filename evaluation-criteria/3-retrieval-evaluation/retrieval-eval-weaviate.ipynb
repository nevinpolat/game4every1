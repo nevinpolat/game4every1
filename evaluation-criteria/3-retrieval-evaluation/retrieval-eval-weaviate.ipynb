{
 "cells": [
  {
   "cell_type": "code",
   "execution_count": 1,
   "metadata": {},
   "outputs": [
    {
     "name": "stderr",
     "output_type": "stream",
     "text": [
      "/home/nevin/anaconda3/envs/1/lib/python3.11/site-packages/sentence_transformers/cross_encoder/CrossEncoder.py:13: TqdmExperimentalWarning: Using `tqdm.autonotebook.tqdm` in notebook mode. Use `tqdm.tqdm` instead to force console mode (e.g. in jupyter console)\n",
      "  from tqdm.autonotebook import tqdm, trange\n"
     ]
    }
   ],
   "source": [
    "import pandas as pd\n",
    "import weaviate\n",
    "from sentence_transformers import SentenceTransformer\n",
    "import numpy as np\n",
    "from tqdm import tqdm"
   ]
  },
  {
   "cell_type": "code",
   "execution_count": 3,
   "metadata": {},
   "outputs": [
    {
     "name": "stderr",
     "output_type": "stream",
     "text": [
      "/tmp/ipykernel_2062126/680488569.py:2: DeprecationWarning: \n",
      "Python client v3 `weaviate.Client(...)` connections and methods are deprecated and will\n",
      "            be removed by 2024-11-30.\n",
      "\n",
      "            Upgrade your code to use Python client v4 `weaviate.WeaviateClient` connections and methods.\n",
      "                - For Python Client v4 usage, see: https://weaviate.io/developers/weaviate/client-libraries/python\n",
      "                - For code migration, see: https://weaviate.io/developers/weaviate/client-libraries/python/v3_v4_migration\n",
      "\n",
      "            If you have to use v3 code, install the v3 client and pin the v3 dependency in your requirements file: `weaviate-client>=3.26.7;<4.0.0`\n",
      "  client = weaviate.Client(\"http://localhost:8080\")\n"
     ]
    }
   ],
   "source": [
    "# Initialize Weaviate client\n",
    "client = weaviate.Client(\"http://localhost:8080\")\n"
   ]
  },
  {
   "cell_type": "code",
   "execution_count": 8,
   "metadata": {},
   "outputs": [],
   "source": [
    "\n",
    "# Define the schema\n",
    "game_class = {\n",
    "    \"class\": \"Game\",\n",
    "    \"description\": \"A class representing a game\",\n",
    "    \"vectorizer\": \"none\",\n",
    "    \"properties\": [\n",
    "        {\"name\": \"gameId\", \"dataType\": [\"text\"], \"description\": \"Unique identifier for the game\"},\n",
    "        {\"name\": \"gameName\", \"dataType\": [\"text\"], \"description\": \"Name of the game\"},\n",
    "        {\"name\": \"alternateNames\", \"dataType\": [\"text\"], \"description\": \"Alternative names for the game\"},\n",
    "        {\"name\": \"subcategory\", \"dataType\": [\"text\"], \"description\": \"Subcategory of the game\"},\n",
    "        {\"name\": \"level\", \"dataType\": [\"text\"], \"description\": \"Difficulty or experience level required\"},\n",
    "        {\"name\": \"description\", \"dataType\": [\"text\"], \"description\": \"Detailed description of the game\"},\n",
    "        {\"name\": \"playersMax\", \"dataType\": [\"int\"], \"description\": \"Maximum number of players\"},\n",
    "        {\"name\": \"ageRange\", \"dataType\": [\"text\"], \"description\": \"Suitable age range for players\"},\n",
    "        {\"name\": \"duration\", \"dataType\": [\"text\"], \"description\": \"Duration of the game\"},\n",
    "        {\"name\": \"equipmentNeeded\", \"dataType\": [\"text\"], \"description\": \"Equipment required to play the game\"},\n",
    "        {\"name\": \"objective\", \"dataType\": [\"text\"], \"description\": \"The main objective of the game\"},\n",
    "        {\"name\": \"skillsDeveloped\", \"dataType\": [\"text\"], \"description\": \"Skills that players develop\"},\n",
    "        {\"name\": \"setupTime\", \"dataType\": [\"text\"], \"description\": \"Time required to set up the game\"},\n",
    "        {\"name\": \"place\", \"dataType\": [\"text\"], \"description\": \"Specific place or setting for the game\"},\n",
    "        {\"name\": \"physicalIntensityLevel\", \"dataType\": [\"text\"], \"description\": \"Physical intensity level\"},\n",
    "        {\"name\": \"educationalBenefits\", \"dataType\": [\"text\"], \"description\": \"Educational benefits\"},\n",
    "        {\"name\": \"category\", \"dataType\": [\"text\"], \"description\": \"Main category of the game\"},\n",
    "    ]\n",
    "}\n",
    "\n",
    "# Delete the class if it already exists\n",
    "if client.schema.exists(\"Game\"):\n",
    "    client.schema.delete_class(\"Game\")\n",
    "\n",
    "# Create the schema\n",
    "client.schema.create_class(game_class)\n",
    "\n"
   ]
  },
  {
   "cell_type": "code",
   "execution_count": 9,
   "metadata": {},
   "outputs": [
    {
     "name": "stderr",
     "output_type": "stream",
     "text": [
      "/home/nevin/anaconda3/envs/1/lib/python3.11/site-packages/transformers/tokenization_utils_base.py:1601: FutureWarning: `clean_up_tokenization_spaces` was not set. It will be set to `True` by default. This behavior will be depracted in transformers v4.45, and will be then set to `False` by default. For more details check this issue: https://github.com/huggingface/transformers/issues/31884\n",
      "  warnings.warn(\n",
      "100%|██████████| 590/590 [01:05<00:00,  9.00it/s]\n",
      "100%|██████████| 2950/2950 [02:21<00:00, 20.87it/s]"
     ]
    },
    {
     "name": "stdout",
     "output_type": "stream",
     "text": [
      "Hit Rate@10: 0.9515\n",
      "MRR@10: 0.7799\n"
     ]
    },
    {
     "name": "stderr",
     "output_type": "stream",
     "text": [
      "\n"
     ]
    }
   ],
   "source": [
    "# Load the game data\n",
    "df_games = pd.read_csv('../data/game-dataset.csv')\n",
    "df_games = df_games.fillna('')\n",
    "\n",
    "# Function to combine fields\n",
    "def combine_fields(row):\n",
    "    fields = [\n",
    "        'gameName',\n",
    "        'alternateNames',\n",
    "        'subcategory',\n",
    "        'level',\n",
    "        'description',\n",
    "        'playersMax',\n",
    "        'ageRange',\n",
    "        'duration',\n",
    "        'equipmentNeeded',\n",
    "        'objective',\n",
    "        'skillsDeveloped',\n",
    "        'setupTime',\n",
    "        'place',\n",
    "        'physicalIntensityLevel',\n",
    "        'educationalBenefits',\n",
    "        'category'\n",
    "    ]\n",
    "    return ' '.join(str(row[field]) for field in fields if row[field])\n",
    "\n",
    "# Load the embedding model\n",
    "embedding_model = SentenceTransformer('all-MiniLM-L6-v2')\n",
    "\n",
    "# Function to import data\n",
    "def import_data(df):\n",
    "    with client.batch as batch:\n",
    "        batch.batch_size = 100\n",
    "        for index, row in tqdm(df.iterrows(), total=len(df)):\n",
    "            properties = {\n",
    "                \"gameId\": str(row[\"gameId\"]),  # Changed from 'id' to 'gameId'\n",
    "                \"gameName\": row[\"gameName\"],\n",
    "                \"alternateNames\": row[\"alternateNames\"],\n",
    "                \"subcategory\": row[\"subcategory\"],\n",
    "                \"level\": row[\"level\"],\n",
    "                \"description\": row[\"description\"],\n",
    "                \"playersMax\": int(row[\"playersMax\"]) if str(row[\"playersMax\"]).isdigit() else 0,\n",
    "                \"ageRange\": row[\"ageRange\"],\n",
    "                \"duration\": row[\"duration\"],\n",
    "                \"equipmentNeeded\": row[\"equipmentNeeded\"],\n",
    "                \"objective\": row[\"objective\"],\n",
    "                \"skillsDeveloped\": row[\"skillsDeveloped\"],\n",
    "                \"setupTime\": row[\"setupTime\"],\n",
    "                \"place\": row[\"place\"],\n",
    "                \"physicalIntensityLevel\": row[\"physicalIntensityLevel\"],\n",
    "                \"educationalBenefits\": row[\"educationalBenefits\"],\n",
    "                \"category\": row[\"category\"],\n",
    "            }\n",
    "\n",
    "            # Generate embedding for the 'combined_text' field\n",
    "            combined_text = combine_fields(row)\n",
    "            embedding = embedding_model.encode(combined_text).astype('float32')\n",
    "\n",
    "            client.batch.add_data_object(\n",
    "                data_object=properties,\n",
    "                class_name=\"Game\",\n",
    "                vector=embedding\n",
    "            )\n",
    "\n",
    "# Import the data\n",
    "import_data(df_games)\n",
    "\n",
    "# Load the ground truth data\n",
    "df_ground_truth = pd.read_csv('../data/ground-truth-retrieval.csv')\n",
    "df_ground_truth = df_ground_truth.fillna('')\n",
    "\n",
    "# Adjust column names if necessary\n",
    "# Assume columns 'query' and 'relevant_doc_id' exist\n",
    "queries = df_ground_truth['question'].tolist()\n",
    "ground_truth_ids = df_ground_truth['q_id'].astype(str).tolist()\n",
    "\n",
    "# Number of top results to consider\n",
    "k = 10\n",
    "\n",
    "# Initialize metrics\n",
    "hit_count = 0\n",
    "reciprocal_ranks = []\n",
    "\n",
    "# Iterate over queries\n",
    "for query_text, true_id in tqdm(zip(queries, ground_truth_ids), total=len(queries)):\n",
    "    # Generate embedding for the query\n",
    "    query_embedding = embedding_model.encode([query_text])[0].astype('float32')\n",
    "\n",
    "    # Perform vector search\n",
    "    response = client.query.get(\n",
    "        class_name=\"Game\",\n",
    "        properties=[\"gameId\"]  # Changed from 'id' to 'gameId'\n",
    "    ).with_near_vector({\n",
    "        \"vector\": query_embedding.tolist(),\n",
    "    }).with_limit(k).do()\n",
    "\n",
    "    # Extract the retrieved IDs\n",
    "    results = response[\"data\"][\"Get\"][\"Game\"]\n",
    "    retrieved_ids = [res['gameId'] for res in results]\n",
    "\n",
    "    # Check if the true ID is in the top k results\n",
    "    if true_id in retrieved_ids:\n",
    "        hit_count += 1\n",
    "        # Calculate reciprocal rank\n",
    "        rank = retrieved_ids.index(true_id) + 1\n",
    "        reciprocal_rank = 1 / rank\n",
    "        reciprocal_ranks.append(reciprocal_rank)\n",
    "    else:\n",
    "        reciprocal_ranks.append(0)\n",
    "\n",
    "# Calculate metrics\n",
    "hit_rate = hit_count / len(queries)\n",
    "mrr = np.mean(reciprocal_ranks)\n",
    "\n",
    "print(f\"Hit Rate@{k}: {hit_rate:.4f}\")\n",
    "print(f\"MRR@{k}: {mrr:.4f}\")\n"
   ]
  }
 ],
 "metadata": {
  "kernelspec": {
   "display_name": "1",
   "language": "python",
   "name": "python3"
  },
  "language_info": {
   "codemirror_mode": {
    "name": "ipython",
    "version": 3
   },
   "file_extension": ".py",
   "mimetype": "text/x-python",
   "name": "python",
   "nbconvert_exporter": "python",
   "pygments_lexer": "ipython3",
   "version": "3.11.9"
  }
 },
 "nbformat": 4,
 "nbformat_minor": 2
}
