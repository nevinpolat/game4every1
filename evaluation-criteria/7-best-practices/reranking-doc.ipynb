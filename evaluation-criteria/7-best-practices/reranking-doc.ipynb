{
 "cells": [
  {
   "cell_type": "code",
   "execution_count": 1,
   "metadata": {},
   "outputs": [
    {
     "name": "stderr",
     "output_type": "stream",
     "text": [
      "/home/nevin/anaconda3/envs/1/lib/python3.11/site-packages/sentence_transformers/cross_encoder/CrossEncoder.py:13: TqdmExperimentalWarning: Using `tqdm.autonotebook.tqdm` in notebook mode. Use `tqdm.tqdm` instead to force console mode (e.g. in jupyter console)\n",
      "  from tqdm.autonotebook import tqdm, trange\n"
     ]
    }
   ],
   "source": [
    "import pandas as pd\n",
    "import weaviate\n",
    "from sentence_transformers import SentenceTransformer, CrossEncoder\n",
    "import numpy as np\n",
    "from tqdm import tqdm\n"
   ]
  },
  {
   "cell_type": "code",
   "execution_count": 2,
   "metadata": {},
   "outputs": [
    {
     "name": "stderr",
     "output_type": "stream",
     "text": [
      "/tmp/ipykernel_433743/680488569.py:2: DeprecationWarning: \n",
      "Python client v3 `weaviate.Client(...)` connections and methods are deprecated and will\n",
      "            be removed by 2024-11-30.\n",
      "\n",
      "            Upgrade your code to use Python client v4 `weaviate.WeaviateClient` connections and methods.\n",
      "                - For Python Client v4 usage, see: https://weaviate.io/developers/weaviate/client-libraries/python\n",
      "                - For code migration, see: https://weaviate.io/developers/weaviate/client-libraries/python/v3_v4_migration\n",
      "\n",
      "            If you have to use v3 code, install the v3 client and pin the v3 dependency in your requirements file: `weaviate-client>=3.26.7;<4.0.0`\n",
      "  client = weaviate.Client(\"http://localhost:8080\")\n",
      "/home/nevin/anaconda3/envs/1/lib/python3.11/site-packages/weaviate/warnings.py:162: DeprecationWarning: Dep016: Python client v3 `weaviate.Client(...)` connections and methods are deprecated and will\n",
      "            be removed by 2024-11-30.\n",
      "\n",
      "            Upgrade your code to use Python client v4 `weaviate.WeaviateClient` connections and methods.\n",
      "                - For Python Client v4 usage, see: https://weaviate.io/developers/weaviate/client-libraries/python\n",
      "                - For code migration, see: https://weaviate.io/developers/weaviate/client-libraries/python/v3_v4_migration\n",
      "\n",
      "            If you have to use v3 code, install the v3 client and pin the v3 dependency in your requirements file: `weaviate-client>=3.26.7;<4.0.0`\n",
      "  warnings.warn(\n"
     ]
    }
   ],
   "source": [
    "# Initialize Weaviate client\n",
    "client = weaviate.Client(\"http://localhost:8080\")\n"
   ]
  },
  {
   "cell_type": "code",
   "execution_count": 5,
   "metadata": {},
   "outputs": [
    {
     "name": "stderr",
     "output_type": "stream",
     "text": [
      "/home/nevin/anaconda3/envs/1/lib/python3.11/site-packages/transformers/tokenization_utils_base.py:1601: FutureWarning: `clean_up_tokenization_spaces` was not set. It will be set to `True` by default. This behavior will be depracted in transformers v4.45, and will be then set to `False` by default. For more details check this issue: https://github.com/huggingface/transformers/issues/31884\n",
      "  warnings.warn(\n",
      "100%|██████████| 2950/2950 [24:51<00:00,  1.98it/s] "
     ]
    },
    {
     "name": "stdout",
     "output_type": "stream",
     "text": [
      "Hit Rate@10 after reranking: 0.9715\n",
      "MRR@10 after reranking: 0.8146\n"
     ]
    },
    {
     "name": "stderr",
     "output_type": "stream",
     "text": [
      "\n"
     ]
    }
   ],
   "source": [
    "\n",
    "# Load the embedding model\n",
    "embedding_model = SentenceTransformer('all-MiniLM-L6-v2')\n",
    "# Load the cross-encoder model\n",
    "cross_encoder = CrossEncoder('cross-encoder/ms-marco-MiniLM-L-6-v2')\n",
    "\n",
    "# Load the ground truth data\n",
    "df_ground_truth = pd.read_csv('../data/ground-truth-retrieval.csv').fillna('')\n",
    "queries = df_ground_truth['question'].tolist()\n",
    "ground_truth_ids = df_ground_truth['q_id'].astype(str).tolist()\n",
    "\n",
    "# Number of top results to consider\n",
    "k = 10\n",
    "rerank_size = 10  # Number of results to rerank\n",
    "\n",
    "# Initialize metrics\n",
    "hit_count = 0\n",
    "reciprocal_ranks = []\n",
    "\n",
    "for query_text, true_id in tqdm(zip(queries, ground_truth_ids), total=len(queries)):\n",
    "    # Generate embedding for the query\n",
    "    query_embedding = embedding_model.encode(query_text).astype('float32')\n",
    "\n",
    "    # Perform initial hybrid search\n",
    "    response = (\n",
    "        client.query\n",
    "        .get(\"Game\", [\"gameId\", \"gameName\", \"description\"])\n",
    "        .with_hybrid(\n",
    "            query=query_text,\n",
    "            alpha=0.5,\n",
    "            vector=query_embedding.tolist()\n",
    "        )\n",
    "        .with_limit(rerank_size)\n",
    "        .do()\n",
    "    )\n",
    "\n",
    "    # Extract the retrieved results\n",
    "    results = response[\"data\"][\"Get\"][\"Game\"]\n",
    "\n",
    "    # Prepare pairs for reranking\n",
    "    pairs = [(query_text, res['gameName'] + ' ' + res.get('description', '')) for res in results]\n",
    "\n",
    "    # Get reranking scores\n",
    "    rerank_scores = cross_encoder.predict(pairs)\n",
    "\n",
    "    # Combine results with rerank scores\n",
    "    for res, score in zip(results, rerank_scores):\n",
    "        res['rerank_score'] = score\n",
    "\n",
    "    # Sort results by rerank score\n",
    "    reranked_results = sorted(results, key=lambda x: x['rerank_score'], reverse=True)[:k]\n",
    "    retrieved_ids = [res['gameId'] for res in reranked_results]\n",
    "\n",
    "    # Evaluate the results\n",
    "    if true_id in retrieved_ids:\n",
    "        hit_count += 1\n",
    "        rank = retrieved_ids.index(true_id) + 1\n",
    "        reciprocal_rank = 1 / rank\n",
    "        reciprocal_ranks.append(reciprocal_rank)\n",
    "    else:\n",
    "        reciprocal_ranks.append(0)\n",
    "\n",
    "# Calculate metrics\n",
    "hit_rate = hit_count / len(queries)\n",
    "mrr = np.mean(reciprocal_ranks)\n",
    "\n",
    "print(f\"Hit Rate@{k} after reranking: {hit_rate:.4f}\")\n",
    "print(f\"MRR@{k} after reranking: {mrr:.4f}\")\n"
   ]
  }
 ],
 "metadata": {
  "kernelspec": {
   "display_name": "1",
   "language": "python",
   "name": "python3"
  },
  "language_info": {
   "codemirror_mode": {
    "name": "ipython",
    "version": 3
   },
   "file_extension": ".py",
   "mimetype": "text/x-python",
   "name": "python",
   "nbconvert_exporter": "python",
   "pygments_lexer": "ipython3",
   "version": "3.11.9"
  }
 },
 "nbformat": 4,
 "nbformat_minor": 2
}
